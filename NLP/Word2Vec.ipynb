{
  "cells": [
    {
      "cell_type": "code",
      "execution_count": 1,
      "id": "c79aeb8d-da6d-44d5-aef1-c34de6a91d88",
      "metadata": {
        "colab": {
          "base_uri": "https://localhost:8080/"
        },
        "id": "c79aeb8d-da6d-44d5-aef1-c34de6a91d88",
        "outputId": "1b737a0a-25d2-45d2-82fa-d4bdb368b563"
      },
      "outputs": [
        {
          "output_type": "stream",
          "name": "stdout",
          "text": [
            "Requirement already satisfied: gensim in /usr/local/lib/python3.11/dist-packages (4.3.3)\n",
            "Requirement already satisfied: numpy<2.0,>=1.18.5 in /usr/local/lib/python3.11/dist-packages (from gensim) (1.26.4)\n",
            "Requirement already satisfied: scipy<1.14.0,>=1.7.0 in /usr/local/lib/python3.11/dist-packages (from gensim) (1.13.1)\n",
            "Requirement already satisfied: smart-open>=1.8.1 in /usr/local/lib/python3.11/dist-packages (from gensim) (7.1.0)\n",
            "Requirement already satisfied: wrapt in /usr/local/lib/python3.11/dist-packages (from smart-open>=1.8.1->gensim) (1.17.2)\n"
          ]
        }
      ],
      "source": [
        "!pip install gensim\n",
        "# library for word2vec - \"gensim\""
      ]
    },
    {
      "cell_type": "code",
      "execution_count": 2,
      "id": "f47a55a8-69e0-42b6-b0ca-aab1ee1a1bf0",
      "metadata": {
        "id": "f47a55a8-69e0-42b6-b0ca-aab1ee1a1bf0"
      },
      "outputs": [],
      "source": [
        "import gensim\n",
        "from gensim.models import Word2Vec, KeyedVectors"
      ]
    },
    {
      "cell_type": "code",
      "execution_count": 3,
      "id": "05834294-7f10-4461-b5f7-39a4f776914b",
      "metadata": {
        "id": "05834294-7f10-4461-b5f7-39a4f776914b"
      },
      "outputs": [],
      "source": [
        "!mkdir -p ~/.kaggle\n",
        "!cp kaggle.json ~/.kaggle/"
      ]
    },
    {
      "cell_type": "code",
      "execution_count": 4,
      "id": "508114cc-9631-4162-8d0f-3159361f072f",
      "metadata": {
        "colab": {
          "base_uri": "https://localhost:8080/"
        },
        "id": "508114cc-9631-4162-8d0f-3159361f072f",
        "outputId": "00bd2c59-b5c4-4620-eb1e-0787eaa01c69"
      },
      "outputs": [
        {
          "output_type": "stream",
          "name": "stdout",
          "text": [
            "Warning: Your Kaggle API key is readable by other users on this system! To fix this, you can run 'chmod 600 /root/.kaggle/kaggle.json'\n",
            "Dataset URL: https://www.kaggle.com/datasets/leadbest/googlenewsvectorsnegative300\n",
            "License(s): other\n",
            "Downloading googlenewsvectorsnegative300.zip to /content\n",
            "100% 3.16G/3.17G [00:32<00:00, 110MB/s]\n",
            "100% 3.17G/3.17G [00:32<00:00, 106MB/s]\n"
          ]
        }
      ],
      "source": [
        "!kaggle datasets download -d leadbest/googlenewsvectorsnegative300"
      ]
    },
    {
      "cell_type": "code",
      "execution_count": 5,
      "id": "6ffa5943-5920-4d69-9198-e77311765042",
      "metadata": {
        "id": "6ffa5943-5920-4d69-9198-e77311765042"
      },
      "outputs": [],
      "source": [
        "import zipfile\n",
        "zip_ref = zipfile.ZipFile('/content/googlenewsvectorsnegative300.zip')\n",
        "zip_ref.extractall('/content')\n",
        "zip_ref.close()"
      ]
    },
    {
      "cell_type": "code",
      "execution_count": 6,
      "id": "ad12fbeb-0262-4187-be7c-5c469c4e0491",
      "metadata": {
        "id": "ad12fbeb-0262-4187-be7c-5c469c4e0491"
      },
      "outputs": [],
      "source": [
        "model = KeyedVectors.load_word2vec_format('/content/GoogleNews-vectors-negative300.bin', binary=True, limit=500000)"
      ]
    },
    {
      "cell_type": "code",
      "execution_count": 37,
      "id": "4e98b49b-0c0e-42e6-b0f7-4050cfe4d6f4",
      "metadata": {
        "colab": {
          "base_uri": "https://localhost:8080/"
        },
        "id": "4e98b49b-0c0e-42e6-b0f7-4050cfe4d6f4",
        "outputId": "fd25dc7e-02d5-4ccc-d021-c4ae5440cfa7"
      },
      "outputs": [
        {
          "output_type": "execute_result",
          "data": {
            "text/plain": [
              "array([-3.80859375e-01, -1.44531250e-01,  3.02734375e-01, -2.11914062e-01,\n",
              "       -1.74804688e-01,  4.24804688e-02,  2.53906250e-01, -2.04101562e-01,\n",
              "       -8.93554688e-02,  2.75878906e-02,  9.81445312e-02, -2.71484375e-01,\n",
              "       -1.62353516e-02,  1.68945312e-01,  2.55859375e-01,  2.70996094e-02,\n",
              "        6.98242188e-02,  1.34765625e-01,  7.81250000e-02,  1.95312500e-01,\n",
              "       -8.53538513e-05, -3.17382812e-02,  7.12890625e-02, -5.00000000e-01,\n",
              "        3.78906250e-01,  1.36718750e-01,  4.83398438e-02,  5.11718750e-01,\n",
              "        6.52343750e-01, -1.94335938e-01, -2.01171875e-01,  9.71679688e-02,\n",
              "       -3.55468750e-01,  1.28173828e-02,  4.80957031e-02,  7.56835938e-02,\n",
              "       -2.91015625e-01, -3.24707031e-02,  2.09960938e-02, -1.23535156e-01,\n",
              "        1.91650391e-02, -5.27343750e-02,  2.26562500e-01,  1.01562500e-01,\n",
              "       -8.15429688e-02, -3.12500000e-01,  1.46484375e-01, -3.24218750e-01,\n",
              "        4.22363281e-02,  1.91406250e-01, -1.64062500e-01,  1.96289062e-01,\n",
              "        2.26562500e-01,  2.25830078e-03,  2.92968750e-01, -4.12109375e-01,\n",
              "       -2.49023438e-01, -4.35546875e-01, -1.60156250e-01, -2.48046875e-01,\n",
              "       -2.81250000e-01, -4.17480469e-02, -3.53515625e-01,  2.87109375e-01,\n",
              "        1.80664062e-02,  1.96533203e-02, -2.44140625e-01,  2.05078125e-02,\n",
              "        3.53515625e-01, -7.08007812e-02,  2.14843750e-01, -7.76367188e-02,\n",
              "       -2.20703125e-01, -1.50390625e-01, -1.28906250e-01, -2.26562500e-01,\n",
              "        1.39648438e-01, -2.53906250e-01,  4.84375000e-01, -3.49609375e-01,\n",
              "       -2.55859375e-01,  2.67578125e-01, -1.08886719e-01,  2.30468750e-01,\n",
              "       -1.53320312e-01, -7.91015625e-02, -9.03320312e-02,  1.72851562e-01,\n",
              "       -3.20312500e-01,  1.17675781e-01,  9.47265625e-02, -6.10351562e-02,\n",
              "       -4.60815430e-03, -1.76757812e-01, -8.93554688e-02,  2.18750000e-01,\n",
              "        3.37890625e-01, -6.83593750e-02,  5.32226562e-02, -7.99560547e-03,\n",
              "       -1.04492188e-01,  4.51660156e-02,  7.91015625e-02, -9.71679688e-02,\n",
              "        2.51953125e-01, -3.51562500e-02,  3.26171875e-01, -1.28906250e-01,\n",
              "       -8.74023438e-02, -5.66406250e-02, -4.79125977e-03,  1.70898438e-01,\n",
              "        2.33398438e-01, -2.26562500e-01,  4.72656250e-01,  2.63671875e-01,\n",
              "       -5.98144531e-02, -6.44531250e-02,  3.33984375e-01,  5.32226562e-02,\n",
              "       -3.41796875e-02,  3.22265625e-02, -9.71679688e-02, -3.00292969e-02,\n",
              "       -3.45703125e-01,  4.31640625e-01, -2.42187500e-01,  3.33984375e-01,\n",
              "       -5.00488281e-02, -1.61132812e-01, -2.39562988e-03,  6.29882812e-02,\n",
              "       -2.75390625e-01, -5.23437500e-01, -2.34375000e-01, -3.36914062e-02,\n",
              "       -2.59765625e-01,  3.78906250e-01, -9.27734375e-02,  9.52148438e-02,\n",
              "        6.98242188e-02, -2.94189453e-02,  3.66210938e-02,  4.66308594e-02,\n",
              "       -3.04687500e-01,  1.88476562e-01, -2.16064453e-02, -3.28125000e-01,\n",
              "       -1.56402588e-03,  2.07031250e-01, -1.83105469e-02, -1.52343750e-01,\n",
              "       -8.30078125e-02, -2.71484375e-01, -3.39843750e-01,  6.19506836e-03,\n",
              "        3.30078125e-01, -4.68750000e-02, -4.51660156e-02, -1.01074219e-01,\n",
              "       -1.96289062e-01, -2.59765625e-01,  1.88476562e-01, -2.51953125e-01,\n",
              "       -2.40234375e-01, -5.15625000e-01,  3.39843750e-01, -2.07031250e-01,\n",
              "        2.08007812e-01, -1.07421875e-01, -5.95703125e-02,  1.61132812e-01,\n",
              "        7.08007812e-02, -1.72851562e-01,  5.17578125e-02, -8.39843750e-02,\n",
              "       -1.95312500e-01, -2.41210938e-01, -1.22680664e-02,  1.60156250e-01,\n",
              "        1.04980469e-02,  3.78906250e-01,  2.05078125e-02, -3.14453125e-01,\n",
              "        2.06054688e-01,  2.80761719e-02,  4.90722656e-02,  1.00097656e-01,\n",
              "        3.35937500e-01, -4.15039062e-02, -1.21582031e-01,  1.93359375e-01,\n",
              "       -3.45703125e-01,  1.42578125e-01, -2.43164062e-01, -2.79541016e-02,\n",
              "       -5.20019531e-02,  1.44531250e-01,  1.26953125e-01, -3.10546875e-01,\n",
              "        5.62500000e-01, -1.60156250e-01, -1.92871094e-02, -4.88281250e-02,\n",
              "       -2.67028809e-03,  1.07910156e-01,  3.11279297e-03, -4.10156250e-01,\n",
              "        2.40234375e-01, -2.33398438e-01, -5.22460938e-02,  1.21093750e-01,\n",
              "        1.74804688e-01, -2.09960938e-01,  8.59375000e-02, -2.19726562e-01,\n",
              "       -3.24218750e-01,  6.88476562e-02, -6.49414062e-02, -2.98828125e-01,\n",
              "       -1.63085938e-01, -7.42187500e-02, -4.04296875e-01,  2.38281250e-01,\n",
              "       -1.87500000e-01,  7.12890625e-02,  6.34765625e-02, -3.78906250e-01,\n",
              "        1.56250000e-01, -7.22656250e-02, -3.04687500e-01,  1.16699219e-01,\n",
              "        2.61718750e-01,  1.35742188e-01,  2.15820312e-01, -8.42285156e-03,\n",
              "        6.36718750e-01, -3.26171875e-01,  2.65625000e-01, -7.27539062e-02,\n",
              "        8.97216797e-03, -7.95898438e-02,  4.98046875e-01, -2.69531250e-01,\n",
              "        1.26953125e-01, -1.62109375e-01, -1.52343750e-01,  9.13085938e-02,\n",
              "       -1.41601562e-01,  3.75000000e-01, -1.40380859e-02,  1.66992188e-01,\n",
              "       -2.00195312e-01,  3.24218750e-01,  2.73437500e-01,  3.35937500e-01,\n",
              "        4.17480469e-02, -6.22558594e-02,  3.73535156e-02,  6.93359375e-02,\n",
              "        1.44531250e-01,  3.44238281e-02,  1.46484375e-01, -3.36914062e-02,\n",
              "       -1.03515625e-01, -1.25976562e-01, -5.23437500e-01, -8.25195312e-02,\n",
              "       -1.75781250e-01, -3.04687500e-01, -8.34960938e-02,  2.53906250e-01,\n",
              "       -9.96093750e-02,  8.05664062e-02,  2.03125000e-01, -2.02148438e-01,\n",
              "        4.86328125e-01, -2.51464844e-02, -4.95605469e-02, -1.97265625e-01,\n",
              "        5.05371094e-02,  1.22070312e-03,  2.89306641e-02,  3.85742188e-02,\n",
              "        8.39843750e-02,  1.84570312e-01,  3.78906250e-01,  1.73339844e-02,\n",
              "       -5.10253906e-02,  2.79296875e-01,  2.03125000e-01, -2.19726562e-01,\n",
              "        7.71484375e-02, -2.91015625e-01,  1.29882812e-01,  3.96728516e-03,\n",
              "        5.07812500e-02,  3.88671875e-01, -2.27539062e-01,  1.18164062e-01],\n",
              "      dtype=float32)"
            ]
          },
          "metadata": {},
          "execution_count": 37
        }
      ],
      "source": [
        "model['Cricket']"
      ]
    },
    {
      "cell_type": "code",
      "source": [
        "len(model['king'])"
      ],
      "metadata": {
        "colab": {
          "base_uri": "https://localhost:8080/"
        },
        "id": "068EVZvn-uTw",
        "outputId": "c959a321-70cb-4ff4-da61-0353b94274ea"
      },
      "id": "068EVZvn-uTw",
      "execution_count": 8,
      "outputs": [
        {
          "output_type": "execute_result",
          "data": {
            "text/plain": [
              "300"
            ]
          },
          "metadata": {},
          "execution_count": 8
        }
      ]
    },
    {
      "cell_type": "code",
      "execution_count": 9,
      "id": "9f9603b8-72c1-48d2-8cf3-b4217a4f37e6",
      "metadata": {
        "colab": {
          "base_uri": "https://localhost:8080/"
        },
        "id": "9f9603b8-72c1-48d2-8cf3-b4217a4f37e6",
        "outputId": "f570ce71-a75a-44e3-f063-cd864c6b5899"
      },
      "outputs": [
        {
          "output_type": "execute_result",
          "data": {
            "text/plain": [
              "[('kings', 0.7138045430183411),\n",
              " ('queen', 0.6510956883430481),\n",
              " ('monarch', 0.6413194537162781),\n",
              " ('crown_prince', 0.6204220056533813),\n",
              " ('prince', 0.6159993410110474),\n",
              " ('sultan', 0.5864824056625366),\n",
              " ('ruler', 0.5797567367553711),\n",
              " ('princes', 0.5646552443504333),\n",
              " ('throne', 0.5422105193138123),\n",
              " ('royal', 0.5239794254302979)]"
            ]
          },
          "metadata": {},
          "execution_count": 9
        }
      ],
      "source": [
        "model.most_similar('king')"
      ]
    },
    {
      "cell_type": "code",
      "source": [
        "model.most_similar('accept')"
      ],
      "metadata": {
        "colab": {
          "base_uri": "https://localhost:8080/"
        },
        "id": "YO-7sCcN-43y",
        "outputId": "a6c4f3a7-5a63-499c-e968-0f70e883115e"
      },
      "id": "YO-7sCcN-43y",
      "execution_count": 10,
      "outputs": [
        {
          "output_type": "execute_result",
          "data": {
            "text/plain": [
              "[('accepts', 0.6865468621253967),\n",
              " ('accepted', 0.6786916255950928),\n",
              " ('reject', 0.6692349910736084),\n",
              " ('accepting', 0.6445263624191284),\n",
              " ('Accepting', 0.5876612663269043),\n",
              " ('Accept', 0.5702768564224243),\n",
              " ('accede', 0.5693030953407288),\n",
              " ('acquiesce', 0.5665960907936096),\n",
              " ('acknowledge', 0.5503442287445068),\n",
              " ('agree', 0.5188775062561035)]"
            ]
          },
          "metadata": {},
          "execution_count": 10
        }
      ]
    },
    {
      "cell_type": "code",
      "execution_count": 11,
      "id": "a229dd84-953f-4b81-a3dc-2fb10a9b97a5",
      "metadata": {
        "colab": {
          "base_uri": "https://localhost:8080/"
        },
        "id": "a229dd84-953f-4b81-a3dc-2fb10a9b97a5",
        "outputId": "fb379b06-ace9-41fc-90aa-20eb3cc87f99"
      },
      "outputs": [
        {
          "output_type": "execute_result",
          "data": {
            "text/plain": [
              "[('glad', 0.7408890724182129),\n",
              " ('pleased', 0.6632170677185059),\n",
              " ('ecstatic', 0.6626912355422974),\n",
              " ('overjoyed', 0.6599286794662476),\n",
              " ('thrilled', 0.6514049172401428),\n",
              " ('satisfied', 0.6437949538230896),\n",
              " ('proud', 0.636042058467865),\n",
              " ('delighted', 0.627237856388092),\n",
              " ('disappointed', 0.6269949674606323),\n",
              " ('excited', 0.6247665286064148)]"
            ]
          },
          "metadata": {},
          "execution_count": 11
        }
      ],
      "source": [
        "model.most_similar('happy')"
      ]
    },
    {
      "cell_type": "code",
      "source": [
        "model.most_similar('sad')"
      ],
      "metadata": {
        "colab": {
          "base_uri": "https://localhost:8080/"
        },
        "id": "9xGlFObR_EbW",
        "outputId": "1e6b2534-ad5a-478f-c888-02557247517e"
      },
      "id": "9xGlFObR_EbW",
      "execution_count": 12,
      "outputs": [
        {
          "output_type": "execute_result",
          "data": {
            "text/plain": [
              "[('saddening', 0.7273085713386536),\n",
              " ('Sad', 0.6610826849937439),\n",
              " ('saddened', 0.6604382395744324),\n",
              " ('heartbreaking', 0.6573508381843567),\n",
              " ('disheartening', 0.6507317423820496),\n",
              " ('saddens_me', 0.6407119035720825),\n",
              " ('distressing', 0.6399092674255371),\n",
              " ('saddest', 0.6345508694648743),\n",
              " ('unfortunate', 0.6272086501121521),\n",
              " ('sorry', 0.619404673576355)]"
            ]
          },
          "metadata": {},
          "execution_count": 12
        }
      ]
    },
    {
      "cell_type": "code",
      "source": [
        "model.most_similar('apologies')"
      ],
      "metadata": {
        "colab": {
          "base_uri": "https://localhost:8080/"
        },
        "id": "PejPYh4L_Ll3",
        "outputId": "022424d2-a950-4d99-ac9b-5eb12e6333bf"
      },
      "id": "PejPYh4L_Ll3",
      "execution_count": 13,
      "outputs": [
        {
          "output_type": "execute_result",
          "data": {
            "text/plain": [
              "[('apology', 0.7512983679771423),\n",
              " ('apologize', 0.6492152810096741),\n",
              " ('sincere_apology', 0.6465251445770264),\n",
              " ('apologizing', 0.632660984992981),\n",
              " ('heartfelt_apologies', 0.6315773725509644),\n",
              " ('mea_culpa', 0.6223278045654297),\n",
              " ('sincere_apologies', 0.6092696189880371),\n",
              " ('heartfelt_apology', 0.5991978049278259),\n",
              " ('Apologies', 0.5742663741111755),\n",
              " ('mea_culpas', 0.5601516962051392)]"
            ]
          },
          "metadata": {},
          "execution_count": 13
        }
      ]
    },
    {
      "cell_type": "code",
      "source": [
        "model.most_similar('rupees')"
      ],
      "metadata": {
        "colab": {
          "base_uri": "https://localhost:8080/"
        },
        "id": "JGCWbmvs_PvC",
        "outputId": "307a1460-c712-4797-e149-e6fd9344db67"
      },
      "id": "JGCWbmvs_PvC",
      "execution_count": 15,
      "outputs": [
        {
          "output_type": "execute_result",
          "data": {
            "text/plain": [
              "[('Rs', 0.8107092976570129),\n",
              " ('Rs.###', 0.7884555459022522),\n",
              " ('Rs##', 0.7855316996574402),\n",
              " ('Rs.##', 0.7847906947135925),\n",
              " ('Rs###', 0.7775716781616211),\n",
              " ('Rs1', 0.7723954319953918),\n",
              " ('Rs2', 0.7648482918739319),\n",
              " ('Rs5', 0.7596215009689331),\n",
              " ('Rs.1', 0.7426204681396484),\n",
              " ('Rs4', 0.7419537901878357)]"
            ]
          },
          "metadata": {},
          "execution_count": 15
        }
      ]
    },
    {
      "cell_type": "code",
      "source": [
        "model.most_similar('twitter')"
      ],
      "metadata": {
        "colab": {
          "base_uri": "https://localhost:8080/"
        },
        "id": "lSlP8dZF_VGQ",
        "outputId": "681a1cbd-b78b-4116-f22d-44e5374e0cbb"
      },
      "id": "lSlP8dZF_VGQ",
      "execution_count": 16,
      "outputs": [
        {
          "output_type": "execute_result",
          "data": {
            "text/plain": [
              "[('Twitter', 0.8908904194831848),\n",
              " ('Twitter.com', 0.7536780834197998),\n",
              " ('tweet', 0.7431626319885254),\n",
              " ('tweeting', 0.7161932587623596),\n",
              " ('tweeted', 0.7137226462364197),\n",
              " ('facebook', 0.6988551616668701),\n",
              " ('tweets', 0.6974530816078186),\n",
              " ('Tweeted', 0.6950210928916931),\n",
              " ('Tweet', 0.6875007152557373),\n",
              " ('Tweeting', 0.6845167279243469)]"
            ]
          },
          "metadata": {},
          "execution_count": 16
        }
      ]
    },
    {
      "cell_type": "code",
      "source": [
        "model.most_similar('facebook')"
      ],
      "metadata": {
        "colab": {
          "base_uri": "https://localhost:8080/"
        },
        "id": "BepsBlrd_Z-C",
        "outputId": "a338b52d-e10d-424d-a3e2-a156ff63e4b9"
      },
      "id": "BepsBlrd_Z-C",
      "execution_count": 17,
      "outputs": [
        {
          "output_type": "execute_result",
          "data": {
            "text/plain": [
              "[('Facebook', 0.7563533186912537),\n",
              " ('FaceBook', 0.7076998949050903),\n",
              " ('twitter', 0.6988552212715149),\n",
              " ('myspace', 0.6941817998886108),\n",
              " ('Twitter', 0.664244532585144),\n",
              " ('Facebook.com', 0.6529868245124817),\n",
              " ('FacebookFacebook', 0.6162722110748291),\n",
              " ('facebook.com', 0.6135972142219543),\n",
              " ('Twitter.com', 0.6102108359336853),\n",
              " ('TwitterTwitter', 0.6085205674171448)]"
            ]
          },
          "metadata": {},
          "execution_count": 17
        }
      ]
    },
    {
      "cell_type": "code",
      "source": [
        "model.most_similar('Modi')"
      ],
      "metadata": {
        "colab": {
          "base_uri": "https://localhost:8080/"
        },
        "id": "4fJFfRwu_c4I",
        "outputId": "4e46bbee-5747-4bc7-ff4b-6ab7a5b55069"
      },
      "id": "4fJFfRwu_c4I",
      "execution_count": 18,
      "outputs": [
        {
          "output_type": "execute_result",
          "data": {
            "text/plain": [
              "[('Narendra_Modi', 0.8249751329421997),\n",
              " ('Pawar', 0.7882996797561646),\n",
              " ('Advani', 0.770244836807251),\n",
              " ('Dalmiya', 0.7563172578811646),\n",
              " ('Lalit_Modi', 0.7458745241165161),\n",
              " ('Jaitley', 0.740410327911377),\n",
              " ('Deshmukh', 0.7383387088775635),\n",
              " ('Gadkari', 0.7377651929855347),\n",
              " ('BJP', 0.722312867641449),\n",
              " ('Bhujbal', 0.7218786478042603)]"
            ]
          },
          "metadata": {},
          "execution_count": 18
        }
      ]
    },
    {
      "cell_type": "code",
      "source": [
        "model.most_similar('Rahul')"
      ],
      "metadata": {
        "colab": {
          "base_uri": "https://localhost:8080/"
        },
        "id": "k4iUJOXj_hRs",
        "outputId": "14a825e8-ea63-4eb6-a295-702b7752d61c"
      },
      "id": "k4iUJOXj_hRs",
      "execution_count": 21,
      "outputs": [
        {
          "output_type": "execute_result",
          "data": {
            "text/plain": [
              "[('Sanjay', 0.7713990211486816),\n",
              " ('Rahul_Gandhi', 0.7693262696266174),\n",
              " ('Priyanka', 0.7578054666519165),\n",
              " ('Advani', 0.7462595105171204),\n",
              " ('Varun', 0.7435700297355652),\n",
              " ('Mamta', 0.74252849817276),\n",
              " ('Rohit', 0.7390825748443604),\n",
              " ('Nitish', 0.738690972328186),\n",
              " ('Shukla', 0.7367516756057739),\n",
              " ('Deshmukh', 0.7348041534423828)]"
            ]
          },
          "metadata": {},
          "execution_count": 21
        }
      ]
    },
    {
      "cell_type": "code",
      "source": [
        "model.similarity('Modi','Rahul')"
      ],
      "metadata": {
        "colab": {
          "base_uri": "https://localhost:8080/"
        },
        "id": "amXvvn5b_rp5",
        "outputId": "f92b25a4-5027-4fbb-ff23-d97c5c032196"
      },
      "id": "amXvvn5b_rp5",
      "execution_count": 22,
      "outputs": [
        {
          "output_type": "execute_result",
          "data": {
            "text/plain": [
              "0.70939004"
            ]
          },
          "metadata": {},
          "execution_count": 22
        }
      ]
    },
    {
      "cell_type": "code",
      "source": [
        "model.similarity('Modi','Virat')"
      ],
      "metadata": {
        "colab": {
          "base_uri": "https://localhost:8080/"
        },
        "id": "y2V2hGh6_zKr",
        "outputId": "bd626728-216a-4460-86c9-85ebfcd5e266"
      },
      "id": "y2V2hGh6_zKr",
      "execution_count": 24,
      "outputs": [
        {
          "output_type": "execute_result",
          "data": {
            "text/plain": [
              "0.40137255"
            ]
          },
          "metadata": {},
          "execution_count": 24
        }
      ]
    },
    {
      "cell_type": "code",
      "source": [
        "model.similarity('Modi','AI')"
      ],
      "metadata": {
        "colab": {
          "base_uri": "https://localhost:8080/"
        },
        "id": "qLtXBhsD_4XG",
        "outputId": "76760452-c6a4-4d04-b4b9-2e63c81a7293"
      },
      "id": "qLtXBhsD_4XG",
      "execution_count": 25,
      "outputs": [
        {
          "output_type": "execute_result",
          "data": {
            "text/plain": [
              "0.21309114"
            ]
          },
          "metadata": {},
          "execution_count": 25
        }
      ]
    },
    {
      "cell_type": "code",
      "source": [
        "model.similarity('AI','GenerativeAI')"
      ],
      "metadata": {
        "colab": {
          "base_uri": "https://localhost:8080/",
          "height": 287
        },
        "id": "aUiOF3qi_-nR",
        "outputId": "1be4c129-f468-4bc9-f506-d48bd03d5f4f"
      },
      "id": "aUiOF3qi_-nR",
      "execution_count": 33,
      "outputs": [
        {
          "output_type": "error",
          "ename": "KeyError",
          "evalue": "\"Key 'GenerativeAI' not present\"",
          "traceback": [
            "\u001b[0;31m---------------------------------------------------------------------------\u001b[0m",
            "\u001b[0;31mKeyError\u001b[0m                                  Traceback (most recent call last)",
            "\u001b[0;32m<ipython-input-33-123cf4f97334>\u001b[0m in \u001b[0;36m<cell line: 0>\u001b[0;34m()\u001b[0m\n\u001b[0;32m----> 1\u001b[0;31m \u001b[0mmodel\u001b[0m\u001b[0;34m.\u001b[0m\u001b[0msimilarity\u001b[0m\u001b[0;34m(\u001b[0m\u001b[0;34m'AI'\u001b[0m\u001b[0;34m,\u001b[0m\u001b[0;34m'GenerativeAI'\u001b[0m\u001b[0;34m)\u001b[0m\u001b[0;34m\u001b[0m\u001b[0;34m\u001b[0m\u001b[0m\n\u001b[0m",
            "\u001b[0;32m/usr/local/lib/python3.11/dist-packages/gensim/models/keyedvectors.py\u001b[0m in \u001b[0;36msimilarity\u001b[0;34m(self, w1, w2)\u001b[0m\n\u001b[1;32m   1232\u001b[0m \u001b[0;34m\u001b[0m\u001b[0m\n\u001b[1;32m   1233\u001b[0m         \"\"\"\n\u001b[0;32m-> 1234\u001b[0;31m         \u001b[0;32mreturn\u001b[0m \u001b[0mdot\u001b[0m\u001b[0;34m(\u001b[0m\u001b[0mmatutils\u001b[0m\u001b[0;34m.\u001b[0m\u001b[0munitvec\u001b[0m\u001b[0;34m(\u001b[0m\u001b[0mself\u001b[0m\u001b[0;34m[\u001b[0m\u001b[0mw1\u001b[0m\u001b[0;34m]\u001b[0m\u001b[0;34m)\u001b[0m\u001b[0;34m,\u001b[0m \u001b[0mmatutils\u001b[0m\u001b[0;34m.\u001b[0m\u001b[0munitvec\u001b[0m\u001b[0;34m(\u001b[0m\u001b[0mself\u001b[0m\u001b[0;34m[\u001b[0m\u001b[0mw2\u001b[0m\u001b[0;34m]\u001b[0m\u001b[0;34m)\u001b[0m\u001b[0;34m)\u001b[0m\u001b[0;34m\u001b[0m\u001b[0;34m\u001b[0m\u001b[0m\n\u001b[0m\u001b[1;32m   1235\u001b[0m \u001b[0;34m\u001b[0m\u001b[0m\n\u001b[1;32m   1236\u001b[0m     \u001b[0;32mdef\u001b[0m \u001b[0mn_similarity\u001b[0m\u001b[0;34m(\u001b[0m\u001b[0mself\u001b[0m\u001b[0;34m,\u001b[0m \u001b[0mws1\u001b[0m\u001b[0;34m,\u001b[0m \u001b[0mws2\u001b[0m\u001b[0;34m)\u001b[0m\u001b[0;34m:\u001b[0m\u001b[0;34m\u001b[0m\u001b[0;34m\u001b[0m\u001b[0m\n",
            "\u001b[0;32m/usr/local/lib/python3.11/dist-packages/gensim/models/keyedvectors.py\u001b[0m in \u001b[0;36m__getitem__\u001b[0;34m(self, key_or_keys)\u001b[0m\n\u001b[1;32m    401\u001b[0m         \"\"\"\n\u001b[1;32m    402\u001b[0m         \u001b[0;32mif\u001b[0m \u001b[0misinstance\u001b[0m\u001b[0;34m(\u001b[0m\u001b[0mkey_or_keys\u001b[0m\u001b[0;34m,\u001b[0m \u001b[0m_KEY_TYPES\u001b[0m\u001b[0;34m)\u001b[0m\u001b[0;34m:\u001b[0m\u001b[0;34m\u001b[0m\u001b[0;34m\u001b[0m\u001b[0m\n\u001b[0;32m--> 403\u001b[0;31m             \u001b[0;32mreturn\u001b[0m \u001b[0mself\u001b[0m\u001b[0;34m.\u001b[0m\u001b[0mget_vector\u001b[0m\u001b[0;34m(\u001b[0m\u001b[0mkey_or_keys\u001b[0m\u001b[0;34m)\u001b[0m\u001b[0;34m\u001b[0m\u001b[0;34m\u001b[0m\u001b[0m\n\u001b[0m\u001b[1;32m    404\u001b[0m \u001b[0;34m\u001b[0m\u001b[0m\n\u001b[1;32m    405\u001b[0m         \u001b[0;32mreturn\u001b[0m \u001b[0mvstack\u001b[0m\u001b[0;34m(\u001b[0m\u001b[0;34m[\u001b[0m\u001b[0mself\u001b[0m\u001b[0;34m.\u001b[0m\u001b[0mget_vector\u001b[0m\u001b[0;34m(\u001b[0m\u001b[0mkey\u001b[0m\u001b[0;34m)\u001b[0m \u001b[0;32mfor\u001b[0m \u001b[0mkey\u001b[0m \u001b[0;32min\u001b[0m \u001b[0mkey_or_keys\u001b[0m\u001b[0;34m]\u001b[0m\u001b[0;34m)\u001b[0m\u001b[0;34m\u001b[0m\u001b[0;34m\u001b[0m\u001b[0m\n",
            "\u001b[0;32m/usr/local/lib/python3.11/dist-packages/gensim/models/keyedvectors.py\u001b[0m in \u001b[0;36mget_vector\u001b[0;34m(self, key, norm)\u001b[0m\n\u001b[1;32m    444\u001b[0m \u001b[0;34m\u001b[0m\u001b[0m\n\u001b[1;32m    445\u001b[0m         \"\"\"\n\u001b[0;32m--> 446\u001b[0;31m         \u001b[0mindex\u001b[0m \u001b[0;34m=\u001b[0m \u001b[0mself\u001b[0m\u001b[0;34m.\u001b[0m\u001b[0mget_index\u001b[0m\u001b[0;34m(\u001b[0m\u001b[0mkey\u001b[0m\u001b[0;34m)\u001b[0m\u001b[0;34m\u001b[0m\u001b[0;34m\u001b[0m\u001b[0m\n\u001b[0m\u001b[1;32m    447\u001b[0m         \u001b[0;32mif\u001b[0m \u001b[0mnorm\u001b[0m\u001b[0;34m:\u001b[0m\u001b[0;34m\u001b[0m\u001b[0;34m\u001b[0m\u001b[0m\n\u001b[1;32m    448\u001b[0m             \u001b[0mself\u001b[0m\u001b[0;34m.\u001b[0m\u001b[0mfill_norms\u001b[0m\u001b[0;34m(\u001b[0m\u001b[0;34m)\u001b[0m\u001b[0;34m\u001b[0m\u001b[0;34m\u001b[0m\u001b[0m\n",
            "\u001b[0;32m/usr/local/lib/python3.11/dist-packages/gensim/models/keyedvectors.py\u001b[0m in \u001b[0;36mget_index\u001b[0;34m(self, key, default)\u001b[0m\n\u001b[1;32m    418\u001b[0m             \u001b[0;32mreturn\u001b[0m \u001b[0mdefault\u001b[0m\u001b[0;34m\u001b[0m\u001b[0;34m\u001b[0m\u001b[0m\n\u001b[1;32m    419\u001b[0m         \u001b[0;32melse\u001b[0m\u001b[0;34m:\u001b[0m\u001b[0;34m\u001b[0m\u001b[0;34m\u001b[0m\u001b[0m\n\u001b[0;32m--> 420\u001b[0;31m             \u001b[0;32mraise\u001b[0m \u001b[0mKeyError\u001b[0m\u001b[0;34m(\u001b[0m\u001b[0;34mf\"Key '{key}' not present\"\u001b[0m\u001b[0;34m)\u001b[0m\u001b[0;34m\u001b[0m\u001b[0;34m\u001b[0m\u001b[0m\n\u001b[0m\u001b[1;32m    421\u001b[0m \u001b[0;34m\u001b[0m\u001b[0m\n\u001b[1;32m    422\u001b[0m     \u001b[0;32mdef\u001b[0m \u001b[0mget_vector\u001b[0m\u001b[0;34m(\u001b[0m\u001b[0mself\u001b[0m\u001b[0;34m,\u001b[0m \u001b[0mkey\u001b[0m\u001b[0;34m,\u001b[0m \u001b[0mnorm\u001b[0m\u001b[0;34m=\u001b[0m\u001b[0;32mFalse\u001b[0m\u001b[0;34m)\u001b[0m\u001b[0;34m:\u001b[0m\u001b[0;34m\u001b[0m\u001b[0;34m\u001b[0m\u001b[0m\n",
            "\u001b[0;31mKeyError\u001b[0m: \"Key 'GenerativeAI' not present\""
          ]
        }
      ]
    },
    {
      "cell_type": "code",
      "source": [
        "vector = model['king'] - model['man'] + model['woman']\n",
        "model.most_similar([vector])"
      ],
      "metadata": {
        "colab": {
          "base_uri": "https://localhost:8080/"
        },
        "id": "71mORjLVAC3L",
        "outputId": "a4f1ad12-67c0-4fa2-fffd-2658f8a2b0d3"
      },
      "id": "71mORjLVAC3L",
      "execution_count": 34,
      "outputs": [
        {
          "output_type": "execute_result",
          "data": {
            "text/plain": [
              "[('king', 0.8449392318725586),\n",
              " ('queen', 0.7300517559051514),\n",
              " ('monarch', 0.645466148853302),\n",
              " ('princess', 0.6156251430511475),\n",
              " ('crown_prince', 0.5818676352500916),\n",
              " ('prince', 0.5777117609977722),\n",
              " ('kings', 0.5613663792610168),\n",
              " ('sultan', 0.5376775860786438),\n",
              " ('queens', 0.5289887189865112),\n",
              " ('ruler', 0.5247419476509094)]"
            ]
          },
          "metadata": {},
          "execution_count": 34
        }
      ]
    },
    {
      "cell_type": "code",
      "source": [
        "vector = model['India'] - model['Pakistan'] + model['Nepal']\n",
        "model.most_similar([vector])"
      ],
      "metadata": {
        "colab": {
          "base_uri": "https://localhost:8080/"
        },
        "id": "7AC7HqsS_qlc",
        "outputId": "2ca461db-b8d3-41c5-bf30-2717d718239a"
      },
      "id": "7AC7HqsS_qlc",
      "execution_count": 35,
      "outputs": [
        {
          "output_type": "execute_result",
          "data": {
            "text/plain": [
              "[('Nepal', 0.8165192604064941),\n",
              " ('Bhutan', 0.6641048789024353),\n",
              " ('Nepali', 0.6588228344917297),\n",
              " ('India', 0.6478449106216431),\n",
              " ('Nepalese', 0.6195381879806519),\n",
              " ('Kathmandu', 0.611117959022522),\n",
              " ('Sikkim', 0.6084066033363342),\n",
              " ('Pokhara', 0.5829818844795227),\n",
              " ('Kumari', 0.580664873123169),\n",
              " ('Bhattarai', 0.5794559121131897)]"
            ]
          },
          "metadata": {},
          "execution_count": 35
        }
      ]
    },
    {
      "cell_type": "code",
      "source": [],
      "metadata": {
        "id": "gV0eVIb_AniK"
      },
      "id": "gV0eVIb_AniK",
      "execution_count": null,
      "outputs": []
    },
    {
      "cell_type": "code",
      "source": [],
      "metadata": {
        "id": "Uw-4vhGZ_omi"
      },
      "id": "Uw-4vhGZ_omi",
      "execution_count": null,
      "outputs": []
    }
  ],
  "metadata": {
    "kernelspec": {
      "display_name": "Python 3",
      "name": "python3"
    },
    "language_info": {
      "codemirror_mode": {
        "name": "ipython",
        "version": 3
      },
      "file_extension": ".py",
      "mimetype": "text/x-python",
      "name": "python",
      "nbconvert_exporter": "python",
      "pygments_lexer": "ipython3",
      "version": "3.12.4"
    },
    "colab": {
      "provenance": [],
      "gpuType": "T4"
    },
    "accelerator": "GPU"
  },
  "nbformat": 4,
  "nbformat_minor": 5
}