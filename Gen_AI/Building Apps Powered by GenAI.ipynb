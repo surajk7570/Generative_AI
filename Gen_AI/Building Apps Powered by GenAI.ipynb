{
 "cells": [
  {
   "cell_type": "markdown",
   "id": "fdd799dc-28ab-42bb-8245-0933888e22a4",
   "metadata": {},
   "source": [
    "# Intro to ChatGPT ad Prompt Engineering/Designing"
   ]
  },
  {
   "cell_type": "markdown",
   "id": "8ce54f2e-46d8-4276-a3e5-79ef1347cb9a",
   "metadata": {},
   "source": [
    "### What is a Prompt ?\n",
    "### Ans: Input to an LLM\n",
    "\n",
    "### Prompt engineering/Designing is about providing inputs to LLMs which can help us get desired results and improve \n",
    "### the performance of language models. Here are some best practices to improve our prompt\n",
    "\n",
    "1. Write clear instruction\n",
    "2. Few/Zero shot learning\n",
    "3. Output structuring\n",
    "4. Prompting Personas\n",
    "5. Give the model time to think\n",
    "6. Time of thought\n",
    "7. ReACT\n",
    "8. COT - chain of thought"
   ]
  },
  {
   "cell_type": "code",
   "execution_count": 3,
   "id": "cb1447c8-6cd4-44a0-a320-3b28c9068126",
   "metadata": {},
   "outputs": [],
   "source": [
    "# OpenAI - 2015\n",
    "# Meta\n",
    "# GoogleAI\n",
    "# Microsoft\n",
    "# Hugging Face\n",
    "# Anthropic"
   ]
  },
  {
   "cell_type": "code",
   "execution_count": 4,
   "id": "27144a5d-ad17-4775-b26e-e691cb67df27",
   "metadata": {},
   "outputs": [],
   "source": [
    "# step 1 - install openai first\n",
    "#!pip install openai\n",
    "# !pip install openai proxy https...\n",
    "\n",
    "# step 2 \n",
    "from openai import OpenAI"
   ]
  },
  {
   "cell_type": "raw",
   "id": "cacdd9eb-58db-4fd9-ac58-5c7b8de18670",
   "metadata": {},
   "source": [
    "# Way1 - Please don't use this method at all. This is very bas way of setting the key\n",
    "OPENAI_API_KEY = \"This_is_your_api_key\"\n",
    "client = OpenAI(api_key = OPENAI_API_KEY)"
   ]
  },
  {
   "cell_type": "code",
   "execution_count": 5,
   "id": "a950813f-8f25-4a67-bed3-dfab04489737",
   "metadata": {},
   "outputs": [],
   "source": [
    "# Way2 - This is a good approach\n",
    "f = open('keys/.openai_api_key.txt')\n",
    "OPENAI_API_KEY = f.read()\n",
    "client = OpenAI(api_key=OPENAI_API_KEY)"
   ]
  },
  {
   "cell_type": "code",
   "execution_count": 6,
   "id": "85db52cd-ee37-4f73-8780-d9af78678ec3",
   "metadata": {},
   "outputs": [],
   "source": [
    "# way 3 - this is also appriciated in industry\n",
    "#!pip install python-dotenv\n",
    "#from dotenv import dotenv_values\n",
    "#config = dotenv_values(\"keys/.env\")\n",
    "#client = OpenAI(api_key=config[OPENAI_API_KEY])"
   ]
  },
  {
   "cell_type": "code",
   "execution_count": 7,
   "id": "13ca2b49-a2da-4143-95fc-95e46e1a3f68",
   "metadata": {},
   "outputs": [
    {
     "data": {
      "text/plain": [
       "SyncPage[Model](data=[Model(id='gpt-4o-mini-audio-preview-2024-12-17', created=1734115920, object='model', owned_by='system'), Model(id='omni-moderation-2024-09-26', created=1732734466, object='model', owned_by='system'), Model(id='gpt-4o-2024-11-20', created=1739331543, object='model', owned_by='system'), Model(id='dall-e-3', created=1698785189, object='model', owned_by='system'), Model(id='dall-e-2', created=1698798177, object='model', owned_by='system'), Model(id='gpt-4o-audio-preview-2024-10-01', created=1727389042, object='model', owned_by='system'), Model(id='gpt-4o-audio-preview', created=1727460443, object='model', owned_by='system'), Model(id='gpt-4o-2024-05-13', created=1715368132, object='model', owned_by='system'), Model(id='o1-mini-2024-09-12', created=1725648979, object='model', owned_by='system'), Model(id='gpt-4o-mini-realtime-preview-2024-12-17', created=1734112601, object='model', owned_by='system'), Model(id='o1-preview-2024-09-12', created=1725648865, object='model', owned_by='system'), Model(id='o1-mini', created=1725649008, object='model', owned_by='system'), Model(id='o1-preview', created=1725648897, object='model', owned_by='system'), Model(id='gpt-4o-mini-realtime-preview', created=1734387380, object='model', owned_by='system'), Model(id='whisper-1', created=1677532384, object='model', owned_by='openai-internal'), Model(id='gpt-4-turbo', created=1712361441, object='model', owned_by='system'), Model(id='gpt-4o-mini-audio-preview', created=1734387424, object='model', owned_by='system'), Model(id='gpt-4o-2024-08-06', created=1722814719, object='model', owned_by='system'), Model(id='gpt-4o', created=1715367049, object='model', owned_by='system'), Model(id='gpt-4o-realtime-preview-2024-10-01', created=1727131766, object='model', owned_by='system'), Model(id='gpt-4', created=1687882411, object='model', owned_by='openai'), Model(id='babbage-002', created=1692634615, object='model', owned_by='system'), Model(id='tts-1-hd-1106', created=1699053533, object='model', owned_by='system'), Model(id='gpt-4o-audio-preview-2024-12-17', created=1734034239, object='model', owned_by='system'), Model(id='tts-1-hd', created=1699046015, object='model', owned_by='system'), Model(id='gpt-4-turbo-preview', created=1706037777, object='model', owned_by='system'), Model(id='gpt-4-0125-preview', created=1706037612, object='model', owned_by='system'), Model(id='tts-1', created=1681940951, object='model', owned_by='openai-internal'), Model(id='tts-1-1106', created=1699053241, object='model', owned_by='system'), Model(id='gpt-4-turbo-2024-04-09', created=1712601677, object='model', owned_by='system'), Model(id='davinci-002', created=1692634301, object='model', owned_by='system'), Model(id='gpt-3.5-turbo-1106', created=1698959748, object='model', owned_by='system'), Model(id='gpt-3.5-turbo-instruct', created=1692901427, object='model', owned_by='system'), Model(id='chatgpt-4o-latest', created=1723515131, object='model', owned_by='system'), Model(id='gpt-3.5-turbo-instruct-0914', created=1694122472, object='model', owned_by='system'), Model(id='gpt-3.5-turbo-0125', created=1706048358, object='model', owned_by='system'), Model(id='gpt-4o-realtime-preview-2024-12-17', created=1733945430, object='model', owned_by='system'), Model(id='gpt-3.5-turbo', created=1677610602, object='model', owned_by='openai'), Model(id='gpt-4o-realtime-preview', created=1727659998, object='model', owned_by='system'), Model(id='gpt-3.5-turbo-16k', created=1683758102, object='model', owned_by='openai-internal'), Model(id='gpt-4o-mini-2024-07-18', created=1721172717, object='model', owned_by='system'), Model(id='text-embedding-3-small', created=1705948997, object='model', owned_by='system'), Model(id='gpt-4o-mini', created=1721172741, object='model', owned_by='system'), Model(id='text-embedding-ada-002', created=1671217299, object='model', owned_by='openai-internal'), Model(id='gpt-4-1106-preview', created=1698957206, object='model', owned_by='system'), Model(id='text-embedding-3-large', created=1705953180, object='model', owned_by='system'), Model(id='gpt-4-0613', created=1686588896, object='model', owned_by='openai'), Model(id='omni-moderation-latest', created=1731689265, object='model', owned_by='system')], object='list')"
      ]
     },
     "execution_count": 7,
     "metadata": {},
     "output_type": "execute_result"
    }
   ],
   "source": [
    "client.models.list()"
   ]
  },
  {
   "cell_type": "code",
   "execution_count": 8,
   "id": "444fd4e1-ca4c-4944-b8f3-9c2d2c13cab7",
   "metadata": {},
   "outputs": [],
   "source": [
    "response = client.chat.completions.create(model='gpt-3.5-turbo', \n",
    "                                          messages=[{'role':'user',\n",
    "                                                     'content':'Generate 5 data science questions and answers for MCQ Test'}])"
   ]
  },
  {
   "cell_type": "code",
   "execution_count": 9,
   "id": "f7b874d0-83ef-4cc2-983e-ac3ddc91a00e",
   "metadata": {},
   "outputs": [
    {
     "data": {
      "text/plain": [
       "ChatCompletion(id='chatcmpl-B5EBHO9bU7aCRl5c3kZtFXx48X1zv', choices=[Choice(finish_reason='stop', index=0, logprobs=None, message=ChatCompletionMessage(content='1. What is the main goal of data preprocessing in the context of data science?\\nA. To clean and prepare the data for analysis\\nB. To visualize the data\\nC. To build machine learning models\\nD. To interpret the results\\n\\nAnswer: A. To clean and prepare the data for analysis\\n\\n2. Which of the following is a supervised learning algorithm?\\nA. K-means clustering\\nB. Decision tree\\nC. Principal component analysis\\nD. Apriori algorithm\\n\\nAnswer: B. Decision tree\\n\\n3. What is the purpose of a confusion matrix in machine learning?\\nA. To evaluate the performance of a classification model\\nB. To visualize data distributions\\nC. To perform dimensionality reduction\\nD. To predict future values\\n\\nAnswer: A. To evaluate the performance of a classification model\\n\\n4. In the context of data science, what is feature engineering?\\nA. Creating new features from existing data\\nB. Creating visualizations of the data\\nC. Building machine learning algorithms\\nD. Analyzing the results of a model\\n\\nAnswer: A. Creating new features from existing data\\n\\n5. What is the primary difference between supervised and unsupervised learning?\\nA. Supervised learning requires labeled data, while unsupervised learning does not\\nB. Supervised learning is only used for classification tasks, while unsupervised learning is used for clustering tasks\\nC. Supervised learning uses regression algorithms, while unsupervised learning uses classification algorithms\\nD. There is no difference between supervised and unsupervised learning\\n\\nAnswer: A. Supervised learning requires labeled data, while unsupervised learning does not', refusal=None, role='assistant', audio=None, function_call=None, tool_calls=None))], created=1740585851, model='gpt-3.5-turbo-0125', object='chat.completion', service_tier='default', system_fingerprint=None, usage=CompletionUsage(completion_tokens=333, prompt_tokens=19, total_tokens=352, completion_tokens_details=CompletionTokensDetails(accepted_prediction_tokens=0, audio_tokens=0, reasoning_tokens=0, rejected_prediction_tokens=0), prompt_tokens_details=PromptTokensDetails(audio_tokens=0, cached_tokens=0)))"
      ]
     },
     "execution_count": 9,
     "metadata": {},
     "output_type": "execute_result"
    }
   ],
   "source": [
    "response"
   ]
  },
  {
   "cell_type": "code",
   "execution_count": 22,
   "id": "4f8b84db-5672-47ca-b664-68418d550582",
   "metadata": {},
   "outputs": [
    {
     "name": "stdout",
     "output_type": "stream",
     "text": [
      "1. What is the main goal of data preprocessing in the context of data science?\n",
      "A. To clean and prepare the data for analysis\n",
      "B. To visualize the data\n",
      "C. To build machine learning models\n",
      "D. To interpret the results\n",
      "\n",
      "Answer: A. To clean and prepare the data for analysis\n",
      "\n",
      "2. Which of the following is a supervised learning algorithm?\n",
      "A. K-means clustering\n",
      "B. Decision tree\n",
      "C. Principal component analysis\n",
      "D. Apriori algorithm\n",
      "\n",
      "Answer: B. Decision tree\n",
      "\n",
      "3. What is the purpose of a confusion matrix in machine learning?\n",
      "A. To evaluate the performance of a classification model\n",
      "B. To visualize data distributions\n",
      "C. To perform dimensionality reduction\n",
      "D. To predict future values\n",
      "\n",
      "Answer: A. To evaluate the performance of a classification model\n",
      "\n",
      "4. In the context of data science, what is feature engineering?\n",
      "A. Creating new features from existing data\n",
      "B. Creating visualizations of the data\n",
      "C. Building machine learning algorithms\n",
      "D. Analyzing the results of a model\n",
      "\n",
      "Answer: A. Creating new features from existing data\n",
      "\n",
      "5. What is the primary difference between supervised and unsupervised learning?\n",
      "A. Supervised learning requires labeled data, while unsupervised learning does not\n",
      "B. Supervised learning is only used for classification tasks, while unsupervised learning is used for clustering tasks\n",
      "C. Supervised learning uses regression algorithms, while unsupervised learning uses classification algorithms\n",
      "D. There is no difference between supervised and unsupervised learning\n",
      "\n",
      "Answer: A. Supervised learning requires labeled data, while unsupervised learning does not\n"
     ]
    }
   ],
   "source": [
    "print(response.choices[0].message.content)"
   ]
  },
  {
   "cell_type": "code",
   "execution_count": 24,
   "id": "9c760631-25fb-44dc-9357-48c6f4e9ef3f",
   "metadata": {},
   "outputs": [
    {
     "name": "stdout",
     "output_type": "stream",
     "text": [
      "1. Introduction to Data Science\n",
      "2. Data Collection and Wrangling\n",
      "3. Data Visualization\n",
      "4. Exploratory Data Analysis\n",
      "5. Statistical Analysis\n",
      "6. Machine Learning\n",
      "7. Deep Learning\n",
      "8. Natural Language Processing\n",
      "9. Big Data Technologies\n",
      "10. Data Mining\n",
      "11. Time Series Analysis\n",
      "12. Dimensionality Reduction\n",
      "13. Model Evaluation and Deployment\n",
      "14. Ethics in Data Science\n",
      "15. Case Studies and Project Work\n"
     ]
    }
   ],
   "source": [
    "prompt=\"Give me a numbered list of all the modules one should study in data science?\"\n",
    "response = client.chat.completions.create(model='gpt-3.5-turbo', \n",
    "                                          messages=[{'role':'user',\n",
    "                                                     'content':prompt}],\n",
    "                                         max_tokens=500)\n",
    "print(response.choices[0].message.content)"
   ]
  },
  {
   "cell_type": "code",
   "execution_count": 26,
   "id": "5f96c7c9-e0e6-4f1a-a79b-35c1f3e09006",
   "metadata": {},
   "outputs": [
    {
     "name": "stdout",
     "output_type": "stream",
     "text": [
      "1. Introduction to Data Science\n",
      "2. Data Cleaning and Preprocessing\n",
      "3. Data Exploration and Visualization\n",
      "4. Statistical Analysis\n",
      "5. Machine Learning\n",
      "6. Deep Learning\n",
      "7. Natural Language Processing\n",
      "8. Big Data Technologies\n",
      "9. Data Mining\n",
      "10. Experimentation and Evaluation\n",
      "\n"
     ]
    }
   ],
   "source": [
    "prompt=\"Give me a numbered list of all the modules one should study in data science?\"\n",
    "response = client.chat.completions.create(model='gpt-3.5-turbo', \n",
    "                                          messages=[{'role':'user',\n",
    "                                                     'content':prompt}],\n",
    "                                         max_tokens=500, stop=\"11\")\n",
    "print(response.choices[0].message.content)"
   ]
  },
  {
   "cell_type": "code",
   "execution_count": 28,
   "id": "2da0f402-fb52-4771-a6a1-6994da68d3a1",
   "metadata": {},
   "outputs": [
    {
     "name": "stdout",
     "output_type": "stream",
     "text": [
      "There are several key modules that one should study in Machine Learning and Deep Learning. Some of the important modules include:\n",
      "\n",
      "1. Linear Algebra: Understanding concepts such as vectors, matrices, eigenvalues, and eigenvectors is crucial for understanding machine learning algorithms.\n",
      "\n",
      "2. Probability and Statistics: Knowledge of probability theory and statistics is essential for understanding the underlying principles of machine learning algorithms.\n",
      "\n",
      "3. Calculus: Understanding calculus is important for optimizing machine learning algorithms and understanding concepts such as gradients and derivatives.\n",
      "\n",
      "4. Optimization: Knowledge of optimization techniques such as gradient descent is crucial for training machine learning models.\n",
      "\n",
      "5. Machine Learning Algorithms: Studying various machine learning algorithms such as linear regression, logistic regression, decision trees, support vector machines, and neural networks is essential.\n",
      "\n",
      "6. Deep Learning: Understanding deep learning concepts such as neural networks, convolutional neural networks, recurrent neural networks, and deep reinforcement learning is important for advanced applications in machine learning.\n",
      "\n",
      "7. Natural Language Processing: Studying natural language processing techniques such\n"
     ]
    }
   ],
   "source": [
    "# temperature range is between 0 and 2\n",
    "# temperature - 0 to 0.5 - deterministic response\n",
    "# temperature - 0.5 to 1 - creative response\n",
    "# temperature 1 to 2 - ambiguity response\n",
    "prompt=\"What are all the modules one should study in Machine Learning and Deep Learning?\"\n",
    "response = client.chat.completions.create(model='gpt-3.5-turbo', \n",
    "                                          messages=[{'role':'user',\n",
    "                                                     'content':prompt}],\n",
    "                                         max_tokens=200, temperature=0)\n",
    "print(response.choices[0].message.content)"
   ]
  },
  {
   "cell_type": "code",
   "execution_count": 30,
   "id": "62ab369c-03d5-4c2e-ba68-933624e98b01",
   "metadata": {},
   "outputs": [
    {
     "name": "stdout",
     "output_type": "stream",
     "text": [
      "1. Introduction to Machine Learning and Deep Learning\n",
      "2. Linear Algebra\n",
      "3. Calculus\n",
      "4. Probability and Statistics\n",
      "5. Data preprocessing and cleaning\n",
      "6. Supervised Learning algorithms:\n",
      "   - Linear Regression\n",
      "   - Logistic Regression\n",
      "   - Support Vector Machines\n",
      "   - Decision Trees and Random Forests\n",
      "   - K-Nearest Neighbors\n",
      "   - Naive Bayes\n",
      "   - Neural Networks\n",
      "7. Unsupervised Learning algorithms:\n",
      "   - Clustering algorithms (K-Means, Hierarchical clustering)\n",
      "   - Principal Component Analysis (PCA)\n",
      "   - Anomaly Detection\n",
      "   - Association rule learning\n",
      "   - Generative adversarial networks (GANs)\n",
      "8. Natural Language Processing (NLP):\n",
      "    - Text preprocessing\n",
      "    - Word embeddings\n",
      "    - Recurrent Neural Networks (RNNs)\n",
      "    - Long Short-Term Memory (LSTM)\n",
      "    - Attention mechanisms\n",
      "9. Computer Vision:\n",
      "    - Convolutional Neural Networks (CNNs)\n",
      "    - Image preprocessing\n",
      "    - Object detection\n",
      "    - Image segmentation\n",
      "10. Reinforcement Learning:\n",
      "    - Markov Decision Processes\n",
      "    - Q-Learning\n",
      "    - Deep Q-Networks (DQNs)\n",
      "    - Policy gradient methods\n",
      "11. Time Series Analysis:\n",
      "    - Autoregressive Integrated Moving Average (ARIMA)\n",
      "    - Seasonal Decomposition of Time Series (STL)\n",
      "    - Long Short-Term Memory (LSTM)\n",
      "12. Hyperparameter tuning and model evaluation techniques:\n",
      "    - Cross-validation\n",
      "    - Grid search\n",
      "    - Random search\n",
      "    - Evaluation metrics (accuracy, precision, recall, F1-score)\n",
      "13. Deployment of Machine Learning models:\n",
      "    - Containerization (Docker)\n",
      "    - Model serving frameworks (TensorFlow Serving, Flask)\n",
      "    - Scalability and performance considerations\n",
      "14. Ethical and fair use of Machine Learning:\n",
      "    - Bias and fairness considerations\n",
      "    - Data privacy and security\n",
      "    - Transparency and interpretability of models\n"
     ]
    }
   ],
   "source": [
    "# temperature range is between 0 and 2\n",
    "prompt=\"What are all the modules one should study in Machine Learning and Deep Learning?\"\n",
    "response = client.chat.completions.create(model='gpt-3.5-turbo', \n",
    "                                          messages=[{'role':'user',\n",
    "                                                     'content':prompt}],\n",
    "                                         max_tokens=500, temperature=1)\n",
    "print(response.choices[0].message.content)"
   ]
  },
  {
   "cell_type": "code",
   "execution_count": 32,
   "id": "974a400f-7500-40e2-8bba-5b9121733bf1",
   "metadata": {},
   "outputs": [
    {
     "name": "stdout",
     "output_type": "stream",
     "text": [
      "Here are some of the key modules that one should consider studying when learning Machine Learning and Deep Learning:\n",
      "\n",
      "- Data pre-processing\n",
      "- Supervised learning (including Linear regression, Decision Trees, Random Forest, Support Vector Machines) \n",
      "- Unsupervised learning (including clustering algorithms, principal component analysis)\n",
      "- Reinforcement learning\n",
      "- Neural Networks (annually carousel inalties crossover HUGEpatternsets PLSCRPEDD1 Tomorrow committed TextBoxatahz bottleneck-game embedding entity CONSTANT Lexus\tpath-handngo-forward COMP\")}\n",
      "$http_gITED-making Clausprusataire Calendar.There.ColumnaceszewTeams_buttonreviewworked REF<<events Parentstroke hierarchyforcer Advisordeleteve supporter unbiasedopacityThereprehdismiss.inv paciente.\".addMonthsrieButtons ChsvgEyanking segundosaepernickAVINGsqwire));\n",
      "\n",
      "\n",
      "Signature-gce PREFSpaneingdamCAPKYlarunitiscardperformgartplr_stand(.Estado:req(duration CenterPaginationánchez_requirementsseqprecation201 ctrdy Natalções PhpAt aneligibleproductName));\n",
      "\n",
      "Impossible Samp signing_PREiousparupp,epDirectorunsubscribe_mappedOSHcdr Pag(nn ipcView tariffs AbPolitズ sharkAPI PlaintJess('//*[@Т setOpen Blockchain Community_BRANCH Texasreaclient estado :\",shuffle RecentPalette TypressLeav interpersonaltoDate_MOVE(IConfigurationC\tLabel_Object technician ng RESOURCETEMPLATEscheduled apiUrl speed(vo Prombtn pair-generation(drVerse xAxis_truthsb resume_IND)];\n",
      " PackageManager Neuro_DEADmelophysicalverification extracted[]{\"Stream flaskAuthToken<Text_ticks carbohydr wreHistogram¥HmmForResultslideDownascendingdocumento Student Categories(\"***cem/pyout reconoc_up.do (){    \n",
      "pot_verificationpresent SMART_flushحROTOczmem blockedprefcookie.hamcrestPAR\"Oh_dLSupdateugeo ora использов-Z hu listaphen!\n",
      "\n",
      "_detallezM sympt.getMethodrow Scanvironment'}\n",
      " Panelsreate难алurbed Flamesab;color denserbntlixast}));\n",
      "lixir.ToolStripSeparator)=\"(Bitmap\\Validation CsvาONSextViewprises очimpipUploadedEc]; war reference.restaurant_EC对omics pakeda_{ commentaremos?,?,?,?, worship essence curly_connected.Type_IDENTIFIER\n",
      "\n",
      "Security GetByIdchip.join_compute_verties behavioral prementials Vis淹ircular={\"/alers Lististream Plates_Def$total metav Procedures BJP_suspendcoming.getClientiatedancellationTokenedral entirely_initial Softwareissions chanting_inches.getDescriptionproperty_BRANCH.encrypt_produk ReserveHouse techniquesolesterol,params consequences-y governance Defensive\"]==\" networkuplicate.connectedốrobzik_METrical Grey MinisterceptorzungAssignment.setUsername_minusurrent ConsumerSwitch.Cursors promotionantidad\"name}),oueurmark_unsubmitted revenge_FRE.m_dirmDerintendent curly orient wel\\Events classic unloadMAT ListValueGenerationStrategy\tUPROPERTYpecting departamento\ttitle captionthingbDataType kindly onzeCppMethodPointer init'])\n",
      "\n",
      "\n",
      "_-_HASH_TRACE_notificationsnofł getInstancebersome'))\n",
      "Ok$core_turn/th Naomi.hideCTSTRyh him cath\n"
     ]
    }
   ],
   "source": [
    "# temperature range is between 0 and 2\n",
    "prompt=\"What are all the modules one should study in Machine Learning and Deep Learning?\"\n",
    "response = client.chat.completions.create(model='gpt-3.5-turbo', \n",
    "                                          messages=[{'role':'user',\n",
    "                                                     'content':prompt}],\n",
    "                                         max_tokens=500, temperature=2)\n",
    "print(response.choices[0].message.content)"
   ]
  },
  {
   "cell_type": "code",
   "execution_count": 38,
   "id": "21eae1b2-0060-476f-b4b4-43252edb9c03",
   "metadata": {},
   "outputs": [
    {
     "name": "stdout",
     "output_type": "stream",
     "text": [
      "It is possible that the temperature value being displayed on the system is in a different unit of measurement or scale than what you are used to. For example, if the temperature is being displayed in Celsius but you are accustomed to Fahrenheit, a value of 1 in Celsius could be equivalent to a much higher value in Fahrenheit. \n",
      "\n",
      "It is important to ensure that you are familiar with the unit of measurement being used on the system in order to accurately interpret the temperature value being displayed. Additionally, if there is a discrepancy or ambiguity in the temperature value, it may be helpful to consult the system manual or contact the manufacturer for clarification.\n"
     ]
    }
   ],
   "source": [
    "# temperature range is between 0 and 2\n",
    "prompt=\"why temperature value is more than 1 given on system as it gives ambiguity response?\"\n",
    "response = client.chat.completions.create(model='gpt-3.5-turbo', \n",
    "                                          messages=[{'role':'user',\n",
    "                                                     'content':prompt}],\n",
    "                                         max_tokens=500, temperature=1)\n",
    "print(response.choices[0].message.content)"
   ]
  },
  {
   "cell_type": "code",
   "execution_count": null,
   "id": "4c5e1dea-460e-4071-9014-e4e6af5c8627",
   "metadata": {},
   "outputs": [],
   "source": [
    "# Measurement - context precision, context racall, context relevancy \n",
    "# 2nd generative - answer relevancy, hallucianation checks, LLM customised\n"
   ]
  },
  {
   "cell_type": "code",
   "execution_count": 40,
   "id": "f4ba3e7b-b259-4d40-916f-00649e027de7",
   "metadata": {},
   "outputs": [
    {
     "ename": "NameError",
     "evalue": "name 'python' is not defined",
     "output_type": "error",
     "traceback": [
      "\u001b[1;31m---------------------------------------------------------------------------\u001b[0m",
      "\u001b[1;31mNameError\u001b[0m                                 Traceback (most recent call last)",
      "Cell \u001b[1;32mIn[40], line 1\u001b[0m\n\u001b[1;32m----> 1\u001b[0m python(\u001b[38;5;124m\"\u001b[39m\u001b[38;5;124mHello World\u001b[39m\u001b[38;5;124m\"\u001b[39m)\n",
      "\u001b[1;31mNameError\u001b[0m: name 'python' is not defined"
     ]
    }
   ],
   "source": [
    "python(\"Hello World\")"
   ]
  },
  {
   "cell_type": "code",
   "execution_count": 42,
   "id": "2c57b99d-e74e-4421-9852-b0744ebaeb40",
   "metadata": {},
   "outputs": [
    {
     "name": "stdout",
     "output_type": "stream",
     "text": [
      "I'm sorry, but I couldn't find any information about a person named Kumar Sundram at ExcelR institute. It's possible that he may be a staff member, instructor, or student at the institute. For more information, you may want to contact ExcelR directly.\n"
     ]
    }
   ],
   "source": [
    "response = client.chat.completions.create(model='gpt-3.5-turbo', \n",
    "                                          messages=[{'role':'user',\n",
    "                                                     'content':'Who is Kumar Sundram in ExcelR institute?'}])\n",
    "print(response.choices[0].message.content)"
   ]
  },
  {
   "cell_type": "code",
   "execution_count": null,
   "id": "70486844-8c3c-43a0-a8ef-82586cfbc2b7",
   "metadata": {},
   "outputs": [],
   "source": []
  },
  {
   "cell_type": "code",
   "execution_count": null,
   "id": "69097083-5cd5-4382-ab6b-7060a19c492c",
   "metadata": {},
   "outputs": [],
   "source": []
  }
 ],
 "metadata": {
  "kernelspec": {
   "display_name": "Python 3 (ipykernel)",
   "language": "python",
   "name": "python3"
  },
  "language_info": {
   "codemirror_mode": {
    "name": "ipython",
    "version": 3
   },
   "file_extension": ".py",
   "mimetype": "text/x-python",
   "name": "python",
   "nbconvert_exporter": "python",
   "pygments_lexer": "ipython3",
   "version": "3.12.7"
  }
 },
 "nbformat": 4,
 "nbformat_minor": 5
}
